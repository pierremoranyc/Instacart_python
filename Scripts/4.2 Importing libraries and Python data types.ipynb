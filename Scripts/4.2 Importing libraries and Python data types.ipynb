{
 "cells": [
  {
   "cell_type": "markdown",
   "id": "590ce037",
   "metadata": {},
   "source": [
    "01. IMPORTING LIBRARIES"
   ]
  },
  {
   "cell_type": "code",
   "execution_count": 1,
   "id": "833571aa",
   "metadata": {},
   "outputs": [],
   "source": [
    "# Import Libraries\n",
    "import pandas as pd\n",
    "import numpy as np\n",
    "import os"
   ]
  },
  {
   "cell_type": "markdown",
   "id": "4ed581bd",
   "metadata": {},
   "source": [
    "02. WORKING WITH PYTHON DATA TYPES\n"
   ]
  },
  {
   "cell_type": "code",
   "execution_count": 5,
   "id": "3ce4c0f3",
   "metadata": {},
   "outputs": [],
   "source": [
    "x = 90"
   ]
  },
  {
   "cell_type": "code",
   "execution_count": 6,
   "id": "6e142a1d",
   "metadata": {},
   "outputs": [],
   "source": [
    "y = 10"
   ]
  },
  {
   "cell_type": "code",
   "execution_count": 7,
   "id": "c96e072e",
   "metadata": {},
   "outputs": [],
   "source": [
    "z = 40"
   ]
  },
  {
   "cell_type": "code",
   "execution_count": 8,
   "id": "16827814",
   "metadata": {},
   "outputs": [],
   "source": [
    "a = 50"
   ]
  },
  {
   "cell_type": "code",
   "execution_count": 9,
   "id": "001f1ecf",
   "metadata": {},
   "outputs": [],
   "source": [
    "b = a + y"
   ]
  },
  {
   "cell_type": "code",
   "execution_count": 10,
   "id": "2089c89d",
   "metadata": {},
   "outputs": [
    {
     "data": {
      "text/plain": [
       "100"
      ]
     },
     "execution_count": 10,
     "metadata": {},
     "output_type": "execute_result"
    }
   ],
   "source": [
    "x + y "
   ]
  },
  {
   "cell_type": "code",
   "execution_count": 11,
   "id": "0a16e714",
   "metadata": {},
   "outputs": [
    {
     "data": {
      "text/plain": [
       "100"
      ]
     },
     "execution_count": 11,
     "metadata": {},
     "output_type": "execute_result"
    }
   ],
   "source": [
    "y + z + a"
   ]
  },
  {
   "cell_type": "code",
   "execution_count": 14,
   "id": "e985629d",
   "metadata": {},
   "outputs": [
    {
     "data": {
      "text/plain": [
       "100"
      ]
     },
     "execution_count": 14,
     "metadata": {},
     "output_type": "execute_result"
    }
   ],
   "source": [
    "2 * a"
   ]
  },
  {
   "cell_type": "code",
   "execution_count": 16,
   "id": "2af3c6b9",
   "metadata": {},
   "outputs": [],
   "source": [
    "t = 10 \n",
    "q = 2.5\n",
    "f = 3.3"
   ]
  },
  {
   "cell_type": "code",
   "execution_count": 17,
   "id": "ebf7e743",
   "metadata": {},
   "outputs": [
    {
     "data": {
      "text/plain": [
       "4.0"
      ]
     },
     "execution_count": 17,
     "metadata": {},
     "output_type": "execute_result"
    }
   ],
   "source": [
    "t/q"
   ]
  },
  {
   "cell_type": "code",
   "execution_count": 18,
   "id": "046a61e3",
   "metadata": {},
   "outputs": [
    {
     "data": {
      "text/plain": [
       "3.0303030303030303"
      ]
     },
     "execution_count": 18,
     "metadata": {},
     "output_type": "execute_result"
    }
   ],
   "source": [
    "t/f"
   ]
  },
  {
   "cell_type": "code",
   "execution_count": 19,
   "id": "61dce568",
   "metadata": {},
   "outputs": [
    {
     "data": {
      "text/plain": [
       "float"
      ]
     },
     "execution_count": 19,
     "metadata": {},
     "output_type": "execute_result"
    }
   ],
   "source": [
    "type(t/f)"
   ]
  },
  {
   "cell_type": "code",
   "execution_count": 20,
   "id": "65b72d23",
   "metadata": {},
   "outputs": [],
   "source": [
    "p = 'Manc'\n",
    "m = 'hester'"
   ]
  },
  {
   "cell_type": "code",
   "execution_count": 21,
   "id": "c3f855c0",
   "metadata": {},
   "outputs": [
    {
     "data": {
      "text/plain": [
       "'Manchester'"
      ]
     },
     "execution_count": 21,
     "metadata": {},
     "output_type": "execute_result"
    }
   ],
   "source": [
    "p + m"
   ]
  },
  {
   "cell_type": "code",
   "execution_count": 22,
   "id": "196291e0",
   "metadata": {},
   "outputs": [
    {
     "data": {
      "text/plain": [
       "str"
      ]
     },
     "execution_count": 22,
     "metadata": {},
     "output_type": "execute_result"
    }
   ],
   "source": [
    "type (p+m)"
   ]
  },
  {
   "cell_type": "code",
   "execution_count": 23,
   "id": "8a5cb13e",
   "metadata": {},
   "outputs": [],
   "source": [
    "e = 'Manchester United, '\n",
    "d = 'pride of Europe.'"
   ]
  },
  {
   "cell_type": "code",
   "execution_count": 24,
   "id": "fb9a9926",
   "metadata": {},
   "outputs": [
    {
     "data": {
      "text/plain": [
       "'Manchester United, pride of Europe.'"
      ]
     },
     "execution_count": 24,
     "metadata": {},
     "output_type": "execute_result"
    }
   ],
   "source": [
    "e + d"
   ]
  },
  {
   "cell_type": "code",
   "execution_count": 25,
   "id": "6e4a066e",
   "metadata": {},
   "outputs": [
    {
     "data": {
      "text/plain": [
       "str"
      ]
     },
     "execution_count": 25,
     "metadata": {},
     "output_type": "execute_result"
    }
   ],
   "source": [
    "type (e + d)"
   ]
  },
  {
   "cell_type": "code",
   "execution_count": 26,
   "id": "3c294919",
   "metadata": {},
   "outputs": [],
   "source": [
    "r= 'I always take '\n",
    "n = 'the Q train to get home'"
   ]
  },
  {
   "cell_type": "code",
   "execution_count": 27,
   "id": "abf177b5",
   "metadata": {},
   "outputs": [
    {
     "data": {
      "text/plain": [
       "'I always take the Q train to get home'"
      ]
     },
     "execution_count": 27,
     "metadata": {},
     "output_type": "execute_result"
    }
   ],
   "source": [
    "r + n"
   ]
  },
  {
   "cell_type": "code",
   "execution_count": 28,
   "id": "34c1f7e2",
   "metadata": {},
   "outputs": [
    {
     "data": {
      "text/plain": [
       "'ManchesterManchesterManchesterManchesterManchesterManchesterManchesterManchesterManchesterManchesterManchesterManchesterManchesterManchesterManchesterManchesterManchesterManchesterManchesterManchesterManchesterManchesterManchesterManchesterManchesterManchesterManchesterManchesterManchesterManchesterManchesterManchesterManchesterManchesterManchesterManchesterManchesterManchesterManchesterManchesterManchesterManchesterManchesterManchesterManchesterManchesterManchesterManchesterManchesterManchesterManchesterManchesterManchesterManchesterManchesterManchesterManchesterManchesterManchesterManchesterManchesterManchesterManchesterManchesterManchesterManchesterManchesterManchesterManchesterManchesterManchesterManchesterManchesterManchesterManchesterManchesterManchesterManchesterManchesterManchesterManchesterManchesterManchesterManchesterManchesterManchesterManchesterManchesterManchesterManchesterManchesterManchesterManchesterManchesterManchesterManchesterManchesterManchesterManchesterManchester'"
      ]
     },
     "execution_count": 28,
     "metadata": {},
     "output_type": "execute_result"
    }
   ],
   "source": [
    "(p + m) * 100"
   ]
  },
  {
   "cell_type": "code",
   "execution_count": null,
   "id": "5a0e93a1",
   "metadata": {},
   "outputs": [],
   "source": []
  }
 ],
 "metadata": {
  "kernelspec": {
   "display_name": "Python 3 (ipykernel)",
   "language": "python",
   "name": "python3"
  },
  "language_info": {
   "codemirror_mode": {
    "name": "ipython",
    "version": 3
   },
   "file_extension": ".py",
   "mimetype": "text/x-python",
   "name": "python",
   "nbconvert_exporter": "python",
   "pygments_lexer": "ipython3",
   "version": "3.11.4"
  }
 },
 "nbformat": 4,
 "nbformat_minor": 5
}
